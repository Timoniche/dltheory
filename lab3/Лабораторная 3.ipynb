{
 "cells": [
  {
   "cell_type": "markdown",
   "metadata": {
    "id": "cHJJv6Doqxdi"
   },
   "source": [
    "В задании вам понадобится собрать генеративную модлель для языка\n",
    "\n",
    "---\n",
    "\n",
    "# LSTM (7 баллов)\n",
    "\n",
    "В данной части нужно реализовать модель с ипользованием LSTM"
   ]
  },
  {
   "cell_type": "code",
   "execution_count": 29,
   "metadata": {
    "colab": {
     "base_uri": "https://localhost:8080/"
    },
    "id": "PApXEiq7p6sN",
    "outputId": "46b92ce1-ba99-4cb3-8b42-4b80a84ada88"
   },
   "outputs": [
    {
     "name": "stderr",
     "output_type": "stream",
     "text": [
      "huggingface/tokenizers: The current process just got forked, after parallelism has already been used. Disabling parallelism to avoid deadlocks...\n",
      "To disable this warning, you can either:\n",
      "\t- Avoid using `tokenizers` before the fork if possible\n",
      "\t- Explicitly set the environment variable TOKENIZERS_PARALLELISM=(true | false)\n"
     ]
    },
    {
     "name": "stdout",
     "output_type": "stream",
     "text": [
      "\r\n",
      "\u001B[1m[\u001B[0m\u001B[34;49mnotice\u001B[0m\u001B[1;39;49m]\u001B[0m\u001B[39;49m A new release of pip available: \u001B[0m\u001B[31;49m22.3.1\u001B[0m\u001B[39;49m -> \u001B[0m\u001B[32;49m24.2\u001B[0m\r\n",
      "\u001B[1m[\u001B[0m\u001B[34;49mnotice\u001B[0m\u001B[1;39;49m]\u001B[0m\u001B[39;49m To update, run: \u001B[0m\u001B[32;49mpip install --upgrade pip\u001B[0m\r\n"
     ]
    }
   ],
   "source": [
    "!pip install --quiet sentencepiece datasets transformers"
   ]
  },
  {
   "cell_type": "code",
   "execution_count": 30,
   "metadata": {
    "id": "VyyvGpTQp6sO"
   },
   "outputs": [],
   "source": [
    "import random\n",
    "import torch\n",
    "import numpy as np\n",
    "from tqdm.notebook import tqdm, trange\n",
    "from sklearn.model_selection import train_test_split\n",
    "import os\n",
    "\n",
    "import torch\n",
    "from torch.nn.utils.rnn import pad_sequence\n",
    "from torch.utils.data import DataLoader"
   ]
  },
  {
   "cell_type": "code",
   "execution_count": 31,
   "metadata": {
    "id": "nKyLiCWrp6sO"
   },
   "outputs": [],
   "source": [
    "from transformers import BertTokenizerFast\n",
    "\n",
    "\n",
    "# Добавьте код для подготовки данных\n",
    "\n",
    "def read_file(path):\n",
    "    with open(path, 'r', encoding='utf-8') as file:\n",
    "        text = file.read()\n",
    "    return text\n",
    "\n",
    "\n",
    "def remove_consecutive_spaces(string):\n",
    "    return ' '.join(string.split())\n",
    "\n",
    "\n",
    "def chars(f, t):\n",
    "    return list(map(chr, range(ord(f), ord(t) + 1)))\n",
    "\n",
    "\n",
    "valid_chars = set(chars('а', 'я') + ['ё'] + chars('a', 'z') + chars('0', '9')\n",
    "                  + list(\"<>(){}\" + \".,\\\"!?;:-*—\\'\"))\n",
    "\n",
    "\n",
    "def clean_text(text):\n",
    "    text = text.lower()\n",
    "    text = text.replace('\\n', ' ')\n",
    "    text = ''.join([char if char in valid_chars else ' ' for char in text])\n",
    "    text = remove_consecutive_spaces(text)\n",
    "    return text\n",
    "\n",
    "\n",
    "def load_texts(paths):\n",
    "    texts = [clean_text(read_file(path)) for path in paths]\n",
    "\n",
    "    return texts\n",
    "\n",
    "\n",
    "def get_all_files(root):\n",
    "    files_paths = []\n",
    "    for root, dir, files in os.walk(root):\n",
    "        for file in files:\n",
    "            if file.endswith(\".txt\"):\n",
    "                files_paths.append(os.path.join(root, file))\n",
    "    return files_paths\n",
    "\n",
    "\n",
    "tokenizer = BertTokenizerFast('vocab.txt')\n",
    "\n",
    "\n",
    "def encode(text):\n",
    "    return tokenizer.encode(text, add_special_tokens=False)\n",
    "\n",
    "\n",
    "def combine_texts(texts):\n",
    "    tokens = [token for text in texts for token in encode(text)]\n",
    "\n",
    "    return tokens\n",
    "\n",
    "\n",
    "class TextDataset(torch.utils.data.Dataset):\n",
    "    def __init__(\n",
    "            self,\n",
    "            texts,\n",
    "            offset,\n",
    "            max_seq_len,\n",
    "    ):\n",
    "        self.texts = texts\n",
    "        self.offset = offset\n",
    "        self.max_seq_len = max_seq_len\n",
    "        self.tokens = combine_texts(texts)\n",
    "        self.slices = []\n",
    "        for i in range(0, len(self.tokens) - max_seq_len, offset):\n",
    "            self.slices.append(self.tokens[i:i + max_seq_len + 1])\n",
    "\n",
    "    def __getitem__(self, idx):\n",
    "        return self.slices[idx]\n",
    "\n",
    "    def __len__(self):\n",
    "        return len(self.slices)"
   ]
  },
  {
   "cell_type": "code",
   "execution_count": 32,
   "metadata": {
    "colab": {
     "base_uri": "https://localhost:8080/"
    },
    "id": "VZgQRhlJ4zlC",
    "outputId": "384d8384-9bbb-430f-91d0-72889b9e5b24"
   },
   "outputs": [
    {
     "data": {
      "text/plain": "device(type='mps')"
     },
     "execution_count": 32,
     "metadata": {},
     "output_type": "execute_result"
    }
   ],
   "source": [
    "device = torch.device('cuda' if torch.cuda.is_available() else 'mps' if torch.backends.mps.is_available() else 'cpu')\n",
    "device"
   ]
  },
  {
   "cell_type": "markdown",
   "metadata": {
    "id": "PW_QSr1NsqrJ"
   },
   "source": [
    "Ниже вам нужно реализовать модель, которая по началу последовательности предсказывает следующий токен.\n",
    "*   Модель получает на вход последовательность токенов, прогоняет её через LSTM и выдает вероятности следующего токена.  \n",
    "*   Используйте LSTM из pytorch\n",
    "*   Не забудьте про `batch_first`\n"
   ]
  },
  {
   "cell_type": "code",
   "execution_count": 33,
   "metadata": {
    "id": "mgF5jttMql7e"
   },
   "outputs": [],
   "source": [
    "class RnnGenerator(torch.nn.Module):\n",
    "    def __init__(self, vocab_size, embed_dim, num_layers):\n",
    "        super().__init__()\n",
    "        self.embed = torch.nn.Embedding(vocab_size, embed_dim)\n",
    "        self.rnn = torch.nn.LSTM(embed_dim, embed_dim, num_layers, batch_first=True)\n",
    "        self.fc = torch.nn.Linear(embed_dim, vocab_size)\n",
    "\n",
    "    #x: (batch_size, seq_len)\n",
    "    def forward(self, x):\n",
    "        x = self.embed(x)\n",
    "        x, (h_n, c_n) = self.rnn(x)\n",
    "        x = self.fc(x)\n",
    "\n",
    "        return x"
   ]
  },
  {
   "cell_type": "code",
   "execution_count": 34,
   "metadata": {
    "colab": {
     "base_uri": "https://localhost:8080/"
    },
    "id": "izp-AJ-RDtJ9",
    "outputId": "4a6f531f-37d5-46e2-a34d-f055806fc2e9"
   },
   "outputs": [
    {
     "data": {
      "text/plain": "8000"
     },
     "execution_count": 34,
     "metadata": {},
     "output_type": "execute_result"
    }
   ],
   "source": [
    "tokenizer.vocab_size"
   ]
  },
  {
   "cell_type": "code",
   "execution_count": 35,
   "metadata": {
    "id": "NIp_w8_HqzkK"
   },
   "outputs": [],
   "source": [
    "vocab_size = tokenizer.vocab_size\n",
    "\n",
    "model = RnnGenerator(vocab_size, 512, 2)"
   ]
  },
  {
   "cell_type": "code",
   "execution_count": 36,
   "outputs": [],
   "source": [
    "pad_token_idx = 0\n",
    "sep_token_idx = 3\n",
    "max_seq_len = 256\n",
    "batch_size = 16\n",
    "\n",
    "\n",
    "def collate_batch(batch):\n",
    "    src_list = []\n",
    "    for src in batch:\n",
    "        src_list.append(torch.tensor(src))\n",
    "\n",
    "    return pad_sequence(src_list, padding_value=pad_token_idx, batch_first=True)"
   ],
   "metadata": {
    "collapsed": false
   }
  },
  {
   "cell_type": "code",
   "execution_count": 37,
   "outputs": [
    {
     "name": "stdout",
     "output_type": "stream",
     "text": [
      "files cnt: 749\n"
     ]
    }
   ],
   "source": [
    "paths = get_all_files(\"books_txt\")\n",
    "paths.sort()\n",
    "print(f'files cnt: {len(paths)}')"
   ],
   "metadata": {
    "collapsed": false
   }
  },
  {
   "cell_type": "code",
   "execution_count": 38,
   "outputs": [],
   "source": [
    "# Выделим небольшой процент данных для теста\n",
    "paths_train, paths_test = train_test_split(paths, test_size=0.03, random_state=12345)\n",
    "\n",
    "texts_train = load_texts(paths_train)\n",
    "texts_test = load_texts(paths_test)"
   ],
   "metadata": {
    "collapsed": false
   }
  },
  {
   "cell_type": "code",
   "execution_count": 39,
   "outputs": [],
   "source": [
    "train_data = TextDataset(\n",
    "    texts_train,\n",
    "    max_seq_len // 2,\n",
    "    max_seq_len=max_seq_len,\n",
    ")\n",
    "train_dataloader = DataLoader(train_data, batch_size, shuffle=True, collate_fn=collate_batch)"
   ],
   "metadata": {
    "collapsed": false
   }
  },
  {
   "cell_type": "code",
   "execution_count": 40,
   "outputs": [],
   "source": [
    "test_data = TextDataset(\n",
    "    texts_test,\n",
    "    max_seq_len * 2,\n",
    "    max_seq_len=max_seq_len,\n",
    ")  # Что бы не ждать будем использовать большой offset\n",
    "test_dataloader = DataLoader(test_data, batch_size, collate_fn=collate_batch)"
   ],
   "metadata": {
    "collapsed": false
   }
  },
  {
   "cell_type": "code",
   "execution_count": 41,
   "outputs": [
    {
     "name": "stdout",
     "output_type": "stream",
     "text": [
      "273864\n"
     ]
    }
   ],
   "source": [
    "print(len(train_data))"
   ],
   "metadata": {
    "collapsed": false
   }
  },
  {
   "cell_type": "code",
   "execution_count": 42,
   "metadata": {
    "colab": {
     "base_uri": "https://localhost:8080/"
    },
    "id": "G-peSCz_NhE7",
    "outputId": "d6134dd4-8e61-4f15-d840-7ddffe47d7eb"
   },
   "outputs": [
    {
     "data": {
      "text/plain": "torch.Size([16, 256, 8000])"
     },
     "execution_count": 42,
     "metadata": {},
     "output_type": "execute_result"
    }
   ],
   "source": [
    "batch = next(iter(train_dataloader))\n",
    "model(batch[:, :-1]).shape"
   ]
  },
  {
   "cell_type": "code",
   "execution_count": 43,
   "metadata": {
    "id": "t6APRvLD1MW-"
   },
   "outputs": [],
   "source": [
    "_ = model.to(device)"
   ]
  },
  {
   "cell_type": "code",
   "execution_count": 44,
   "metadata": {
    "id": "9V8oy5i-rSe2"
   },
   "outputs": [],
   "source": [
    "learning_rate = 0.0005\n",
    "\n",
    "optimizer = torch.optim.AdamW(model.parameters(), lr=learning_rate)"
   ]
  },
  {
   "cell_type": "code",
   "execution_count": 45,
   "metadata": {
    "id": "_Alhboqx4emr"
   },
   "outputs": [],
   "source": [
    "criterion = torch.nn.CrossEntropyLoss(ignore_index=pad_token_idx)"
   ]
  },
  {
   "cell_type": "markdown",
   "metadata": {
    "id": "tOzmA6e1d2uO"
   },
   "source": [
    "Реализуйте обучение модели:\n",
    "*  Не забудьте сдвинуть src и trg относительно друг друга.\n",
    "*  Не забудьте про `clip_grad_norm_`\n",
    "*  Данных очень много, для отладки лучше проходить только часть данных иначе этоха будет очень длинной"
   ]
  },
  {
   "cell_type": "code",
   "execution_count": 46,
   "metadata": {
    "id": "vc60fcsTuJKj"
   },
   "outputs": [],
   "source": [
    "# Реализуйте обучение, \n",
    "# можете не отстанавливать цикл раньше так как выборка большая.\n",
    "def train_epoch(model, callback):\n",
    "    model.train()\n",
    "    losses = []\n",
    "    n_inter = 0\n",
    "\n",
    "    for batch in tqdm(train_dataloader):\n",
    "        src = batch[:, :-1].to(device)\n",
    "        trg = batch[:, 1:].to(device)\n",
    "\n",
    "        optimizer.zero_grad()\n",
    "        output = model(src)\n",
    "        loss = criterion(output.transpose(1, 2), trg)\n",
    "        losses.append(loss.item())\n",
    "\n",
    "        loss.backward()\n",
    "        torch.nn.utils.clip_grad_norm_(model.parameters(), 1.0)\n",
    "        optimizer.step()\n",
    "\n",
    "        n_inter += 1\n",
    "        if n_inter % 500 == 0:\n",
    "            callback(np.mean(losses))\n",
    "            losses = []\n",
    "\n"
   ]
  },
  {
   "cell_type": "code",
   "execution_count": 47,
   "outputs": [],
   "source": [
    "def eval_model(model):\n",
    "    model.eval()\n",
    "    losses = []\n",
    "\n",
    "    for batch in test_dataloader:\n",
    "        src = batch[:, :-1].to(device)\n",
    "        trg = batch[:, 1:].to(device)\n",
    "\n",
    "        with torch.no_grad():\n",
    "            logits = model(src)\n",
    "            loss = criterion(logits.transpose(1, 2), trg)\n",
    "        losses.append(loss.item())\n",
    "\n",
    "    return np.mean(losses)"
   ],
   "metadata": {
    "collapsed": false
   }
  },
  {
   "cell_type": "code",
   "execution_count": 48,
   "outputs": [
    {
     "data": {
      "text/plain": "np.float64(8.992234655788966)"
     },
     "execution_count": 48,
     "metadata": {},
     "output_type": "execute_result"
    }
   ],
   "source": [
    "eval_model(model)"
   ],
   "metadata": {
    "collapsed": false
   }
  },
  {
   "cell_type": "markdown",
   "source": [
    "Получите `loss < 5.0` на тестовой выборке.\n",
    "\n",
    "Если модель обучается слишком быстро до значений <1.0 вы что-то напутали с данными."
   ],
   "metadata": {
    "collapsed": false
   }
  },
  {
   "cell_type": "code",
   "execution_count": 49,
   "outputs": [
    {
     "name": "stderr",
     "output_type": "stream",
     "text": [
      "huggingface/tokenizers: The current process just got forked, after parallelism has already been used. Disabling parallelism to avoid deadlocks...\n",
      "To disable this warning, you can either:\n",
      "\t- Avoid using `tokenizers` before the fork if possible\n",
      "\t- Explicitly set the environment variable TOKENIZERS_PARALLELISM=(true | false)\n"
     ]
    },
    {
     "data": {
      "text/plain": "  0%|          | 0/1 [00:00<?, ?it/s]",
      "application/vnd.jupyter.widget-view+json": {
       "version_major": 2,
       "version_minor": 0,
       "model_id": "2609abccb2f94ba3b35884a08ed3ca54"
      }
     },
     "metadata": {},
     "output_type": "display_data"
    },
    {
     "data": {
      "text/plain": "  0%|          | 0/17117 [00:00<?, ?it/s]",
      "application/vnd.jupyter.widget-view+json": {
       "version_major": 2,
       "version_minor": 0,
       "model_id": "56e0702fd20b4ee09dd24a811cb262a5"
      }
     },
     "metadata": {},
     "output_type": "display_data"
    },
    {
     "name": "stdout",
     "output_type": "stream",
     "text": [
      "Epoch: 01 | train_loss = 6.77620, eval_loss = 6.18671\n",
      "Epoch: 01 | train_loss = 6.03131, eval_loss = 5.81084\n",
      "Epoch: 01 | train_loss = 5.72296, eval_loss = 5.56409\n",
      "Epoch: 01 | train_loss = 5.49744, eval_loss = 5.35311\n",
      "Epoch: 01 | train_loss = 5.32138, eval_loss = 5.18744\n",
      "Epoch: 01 | train_loss = 5.16289, eval_loss = 5.05937\n",
      "Epoch: 01 | train_loss = 5.04530, eval_loss = 4.96199\n",
      "Epoch: 01 | train_loss = 4.94420, eval_loss = 4.87713\n",
      "Epoch: 01 | train_loss = 4.85471, eval_loss = 4.80751\n",
      "Epoch: 01 | train_loss = 4.79700, eval_loss = 4.74784\n",
      "Epoch: 01 | train_loss = 4.72877, eval_loss = 4.69445\n",
      "Epoch: 01 | train_loss = 4.67384, eval_loss = 4.65188\n",
      "Epoch: 01 | train_loss = 4.63009, eval_loss = 4.61307\n",
      "Epoch: 01 | train_loss = 4.59660, eval_loss = 4.58135\n",
      "Epoch: 01 | train_loss = 4.54663, eval_loss = 4.55238\n",
      "Epoch: 01 | train_loss = 4.52166, eval_loss = 4.52584\n",
      "Epoch: 01 | train_loss = 4.49308, eval_loss = 4.49595\n",
      "Epoch: 01 | train_loss = 4.46308, eval_loss = 4.47770\n",
      "Epoch: 01 | train_loss = 4.43407, eval_loss = 4.45350\n",
      "Epoch: 01 | train_loss = 4.42207, eval_loss = 4.43153\n",
      "Epoch: 01 | train_loss = 4.40081, eval_loss = 4.41925\n",
      "Epoch: 01 | train_loss = 4.37771, eval_loss = 4.39599\n",
      "Epoch: 01 | train_loss = 4.36066, eval_loss = 4.38250\n",
      "Epoch: 01 | train_loss = 4.33813, eval_loss = 4.37168\n",
      "Epoch: 01 | train_loss = 4.32349, eval_loss = 4.35770\n",
      "Epoch: 01 | train_loss = 4.31024, eval_loss = 4.34497\n",
      "Epoch: 01 | train_loss = 4.28462, eval_loss = 4.33565\n",
      "Epoch: 01 | train_loss = 4.27653, eval_loss = 4.31419\n",
      "Epoch: 01 | train_loss = 4.27355, eval_loss = 4.30758\n",
      "Epoch: 01 | train_loss = 4.25513, eval_loss = 4.29582\n",
      "Epoch: 01 | train_loss = 4.24065, eval_loss = 4.29242\n",
      "Epoch: 01 | train_loss = 4.23617, eval_loss = 4.27708\n",
      "Epoch: 01 | train_loss = 4.22717, eval_loss = 4.27491\n",
      "Epoch: 01 | train_loss = 4.21025, eval_loss = 4.26132\n"
     ]
    }
   ],
   "source": [
    "def callback(train_loss):\n",
    "    eval_loss = eval_model(model)\n",
    "    model.train()\n",
    "    print(f'Epoch: {epoch+1:02} | train_loss = {train_loss:.5f}, eval_loss = {eval_loss:.5f}')\n",
    "\n",
    "for epoch in trange(1):\n",
    "    train_loss = train_epoch(model, callback)"
   ],
   "metadata": {
    "collapsed": false
   }
  },
  {
   "cell_type": "code",
   "execution_count": 51,
   "outputs": [],
   "source": [
    "save_path = '/Users/ddulaev/PycharmProjects/dltheory/lab3/lstm_model.pth'\n",
    "torch.save(model.state_dict(), save_path)"
   ],
   "metadata": {
    "collapsed": false
   }
  },
  {
   "cell_type": "markdown",
   "source": [
    "# Генерация текста (5 баллов)\n",
    "\n",
    "Реализуйте функцию, которая продолжает текст.\n",
    "1.   Переведите строчку в токены\n",
    "2.   Реализуйте код который предсказывает вероятность следующей буквы\n",
    "3.   Семплируйте следующую букву\n",
    "4.   Повторяйте пункты 2-3 в цикле\n",
    "5.   Преобразуйте токены в строчку\n",
    "\n"
   ],
   "metadata": {
    "collapsed": false
   }
  },
  {
   "cell_type": "code",
   "execution_count": 52,
   "outputs": [],
   "source": [
    "from transformers import GPT2TokenizerFast\n",
    "from tokenizers.decoders import ByteLevel, WordPiece\n",
    "from transformers import BertTokenizerFast\n",
    "\n",
    "decoder = WordPiece()"
   ],
   "metadata": {
    "collapsed": false
   }
  },
  {
   "cell_type": "code",
   "execution_count": 53,
   "outputs": [],
   "source": [
    "def continues_sentence(sentence, model, max_len = 30):\n",
    "    model.eval()\n",
    "\n",
    "    tokens = list(encode(sentence.lower()))\n",
    "\n",
    "    input_tensor = torch.tensor(tokens).unsqueeze(0).to(device)\n",
    "\n",
    "    for _ in range(max_len):\n",
    "        with torch.no_grad():\n",
    "            output = model(input_tensor)[:, -1, :]\n",
    "            softmax = torch.softmax(output, dim=-1)\n",
    "\n",
    "            token = torch.multinomial(softmax, num_samples=1).item()\n",
    "            tokens.append(token)\n",
    "\n",
    "            input_tensor = torch.tensor(tokens).unsqueeze(0).to(device)\n",
    "\n",
    "    return decoder.decode(tokenizer.convert_ids_to_tokens(tokens))"
   ],
   "metadata": {
    "collapsed": false
   }
  },
  {
   "cell_type": "code",
   "execution_count": 54,
   "outputs": [
    {
     "data": {
      "text/plain": "'я помню чудное мгновенье - золотое ; сверху, другая - сила, светлость речи он ум гнева, в сражении рютона, кружась'"
     },
     "execution_count": 54,
     "metadata": {},
     "output_type": "execute_result"
    }
   ],
   "source": [
    "continues_sentence(\"Я помню чудное мгновенье\", model)"
   ],
   "metadata": {
    "collapsed": false
   }
  },
  {
   "cell_type": "code",
   "execution_count": 55,
   "outputs": [
    {
     "data": {
      "text/plain": "'мои дядя самых честных правил, а есть тоже сперва глупыми или бурю ; окохе их у нас глаза от устали мы вас видима, да и всего больше в нов'"
     },
     "execution_count": 55,
     "metadata": {},
     "output_type": "execute_result"
    }
   ],
   "source": [
    "continues_sentence(\"Мой дядя самых честных правил,\", model)"
   ],
   "metadata": {
    "collapsed": false
   }
  },
  {
   "cell_type": "code",
   "execution_count": 56,
   "outputs": [
    {
     "data": {
      "text/plain": "'четыре года потратил деонардо на англия. биует с большим гером он был совершенно холоден, и раблики с москвами решетками, выставить'"
     },
     "execution_count": 56,
     "metadata": {},
     "output_type": "execute_result"
    }
   ],
   "source": [
    "continues_sentence(\"Четыре года потратил Деонардо на\", model)"
   ],
   "metadata": {
    "collapsed": false
   }
  },
  {
   "cell_type": "code",
   "execution_count": 57,
   "outputs": [
    {
     "data": {
      "text/plain": "'если сила плохих людеи в том, что они вместе, то хорошим людям, чтобы стать силои, надо видеть ему, настолько собственно благодарить того, что настоящее актеры и печать, когда они не укорлись и пожалело, но так и'"
     },
     "execution_count": 57,
     "metadata": {},
     "output_type": "execute_result"
    }
   ],
   "source": [
    "continues_sentence(\"Если сила плохих людей в том, что они вместе, то хорошим людям, чтобы стать силой, надо\", model)"
   ],
   "metadata": {
    "collapsed": false
   }
  },
  {
   "cell_type": "code",
   "execution_count": null,
   "outputs": [],
   "source": [],
   "metadata": {
    "collapsed": false
   }
  }
 ],
 "metadata": {
  "accelerator": "GPU",
  "colab": {
   "provenance": []
  },
  "gpuClass": "standard",
  "kernelspec": {
   "display_name": "Python 3 (ipykernel)",
   "language": "python",
   "name": "python3"
  },
  "language_info": {
   "codemirror_mode": {
    "name": "ipython",
    "version": 3
   },
   "file_extension": ".py",
   "mimetype": "text/x-python",
   "name": "python",
   "nbconvert_exporter": "python",
   "pygments_lexer": "ipython3",
   "version": "3.7.3"
  }
 },
 "nbformat": 4,
 "nbformat_minor": 1
}
